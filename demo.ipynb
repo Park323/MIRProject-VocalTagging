{
 "cells": [
  {
   "cell_type": "code",
   "execution_count": 1,
   "metadata": {},
   "outputs": [],
   "source": [
    "from dataset import get_mel_spectrogram\n",
    "\n",
    "file_path = r\"C:\\Users\\park3\\park\\Repository\\MIRProject-VocalTagging\\data\\likeme_a.wav\"\n",
    "state_path = r\"C:\\Users\\park3\\park\\Repository\\MIRProject-VocalTagging\\results\\model_15.pt\"\n",
    "\n",
    "mel_spec = get_mel_spectrogram(file_path, SR=22050)"
   ]
  },
  {
   "cell_type": "code",
   "execution_count": 7,
   "metadata": {},
   "outputs": [],
   "source": [
    "import torch\n",
    "\n",
    "THRESHOLDS = torch.tensor([0.5, 0.5, 0.5, 0.5, 0.5, 0.5, 0.5, 0.5, 0.5, 0.5,\n",
    "                           0.5, 0.5, 0.5, 0.5, 0.5, 0.5, 0.5, 0.5, 0.5, 0.5, \n",
    "                           0.5, 0.5, 0.5, 0.5, 0.5, 0.5, 0.5, 0.5, 0.5, 0.5, \n",
    "                           0.5, 0.5, 0.5, 0.5, 0.5, 0.5, 0.5, 0.5, 0.5, 0.5, \n",
    "                           0.5, 0.5])"
   ]
  },
  {
   "cell_type": "code",
   "execution_count": 15,
   "metadata": {},
   "outputs": [
    {
     "data": {
      "image/png": "[encoded data removed]",
      "text/plain": [
       "<Figure size 720x864 with 1 Axes>"
      ]
     },
     "metadata": {
      "needs_background": "light"
     },
     "output_type": "display_data"
    }
   ],
   "source": [
    "import torch.nn as nn\n",
    "import matplotlib.pyplot as plt\n",
    "\n",
    "from model import base_model\n",
    "\n",
    "DEVICE = 'cuda' if torch.cuda.is_available() else 'cpu'\n",
    "\n",
    "mel_spec = mel_spec.to(DEVICE)\n",
    "num_segs = mel_spec.size(-1)//107\n",
    "\n",
    "outputs = torch.zeros(num_segs, 42).to(DEVICE)\n",
    "model = base_model().to(DEVICE)\n",
    "model.load_state_dict(torch.load(state_path, map_location=DEVICE))\n",
    "\n",
    "for i in range(num_segs):\n",
    "    output = model(mel_spec[:,:,i*107:(i+1)*107].unsqueeze(0))\n",
    "    outputs[i, :] = output[0]\n",
    "\n",
    "prediction = (outputs > THRESHOLDS).to(int).T\n",
    "plt.figure(figsize=(10,1*outputs.size(0)))\n",
    "plt.imshow(prediction)\n",
    "plt.show()"
   ]
  },
  {
   "cell_type": "code",
   "execution_count": null,
   "metadata": {},
   "outputs": [],
   "source": []
  }
 ],
 "metadata": {
  "kernelspec": {
   "display_name": "Python 3.9.7 ('avsr')",
   "language": "python",
   "name": "python3"
  },
  "language_info": {
   "codemirror_mode": {
    "name": "ipython",
    "version": 3
   },
   "file_extension": ".py",
   "mimetype": "text/x-python",
   "name": "python",
   "nbconvert_exporter": "python",
   "pygments_lexer": "ipython3",
   "version": "3.9.13"
  },
  "orig_nbformat": 4,
  "vscode": {
   "interpreter": {
    "hash": "19d6aceedad81f7a7509298a33f5091dc48425c32d0abd1b16cdda93c50dcacb"
   }
  }
 },
 "nbformat": 4,
 "nbformat_minor": 2
}
