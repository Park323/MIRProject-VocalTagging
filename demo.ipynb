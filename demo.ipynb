{
 "cells": [
  {
   "cell_type": "markdown",
   "metadata": {},
   "source": [
    "# Evaluate"
   ]
  },
  {
   "cell_type": "markdown",
   "metadata": {},
   "source": [
    "hist 파일을 넣어 주시면 학습 그래프를 볼 수 있습니다 ^^"
   ]
  },
  {
   "cell_type": "code",
   "execution_count": null,
   "metadata": {},
   "outputs": [],
   "source": [
    "HIST_PATH = 'results/D_MSE_hist.pkl'"
   ]
  },
  {
   "cell_type": "code",
   "execution_count": null,
   "metadata": {},
   "outputs": [
    {
     "data": {
      "image/png": "[encoded data removed]",
      "text/plain": [
       "<Figure size 432x288 with 1 Axes>"
      ]
     },
     "metadata": {},
     "output_type": "display_data"
    },
    {
     "data": {
      "image/png": "[encoded data removed]",
      "text/plain": [
       "<Figure size 432x288 with 1 Axes>"
      ]
     },
     "metadata": {},
     "output_type": "display_data"
    }
   ],
   "source": [
    "import pickle\n",
    "import matplotlib.pyplot as plt\n",
    "\n",
    "hist = pickle.load(open(HIST_PATH, 'rb'))\n",
    "plt.plot(hist['train_loss'])\n",
    "plt.plot(hist['valid_loss'])\n",
    "plt.show()\n",
    "\n",
    "plt.plot(hist['train_score'])\n",
    "plt.plot(hist['valid_score'])\n",
    "plt.show()"
   ]
  },
  {
   "cell_type": "markdown",
   "metadata": {},
   "source": [
    "# Demo"
   ]
  },
  {
   "cell_type": "markdown",
   "metadata": {},
   "source": [
    "## Load Library"
   ]
  },
  {
   "cell_type": "code",
   "execution_count": 1,
   "metadata": {},
   "outputs": [],
   "source": [
    "import torch\n",
    "\n",
    "DEVICE = 'cuda' if torch.cuda.is_available() else 'cpu'"
   ]
  },
  {
   "cell_type": "markdown",
   "metadata": {},
   "source": [
    "## Choose the set of labels"
   ]
  },
  {
   "cell_type": "markdown",
   "metadata": {},
   "source": [
    "아래 라벨 목록을 보시고 SET_ID에 원하는 LABEL을 입력합니다 ^^ (Model이 학습된 라벨과 동일해야함)"
   ]
  },
  {
   "cell_type": "code",
   "execution_count": 3,
   "metadata": {},
   "outputs": [],
   "source": [
    "SET_ID = \"A\""
   ]
  },
  {
   "cell_type": "code",
   "execution_count": 4,
   "metadata": {},
   "outputs": [],
   "source": [
    "entire_label = ['Sad', 'Thick', 'Warm', 'Clear', 'Dynamic', 'Energetic', 'Speech-Like', 'Sharp', 'Falsetto', 'Robotic/Artificial', \n",
    "                     'Whisper/Quiet', 'Delicate', 'Passion', 'Emotional', 'Mid-Range', \n",
    "                     'High-Range', 'Compressed', 'Sweet', 'Soulful/R&B', 'Stable', \n",
    "                     'Rounded', 'Thin', 'Mild/Soft', 'Breathy', 'Pretty', \n",
    "                     'Young', 'Dark', 'Husky/Throaty', 'Bright', 'Vibrato', \n",
    "                     'Pure', 'Male', ' Ballad', 'Rich', 'Low-Range', \n",
    "                     'Shouty', 'Cute', 'Relaxed', 'Female', 'Charismatic', \n",
    "                     'Lonely', 'Embellishing']\n",
    "                     \n",
    "sets = {}\n",
    "# ALL\n",
    "sets['X'] = ['Sad', 'Thick', 'Warm', 'Clear', 'Dynamic', 'Energetic', 'Speech-Like', 'Sharp', 'Falsetto', 'Robotic/Artificial', \n",
    "            'Whisper/Quiet', 'Delicate', 'Passion', 'Emotional', 'Mid-Range', \n",
    "            'High-Range', 'Compressed', 'Sweet', 'Soulful/R&B', 'Stable', \n",
    "            'Rounded', 'Thin', 'Mild/Soft', 'Breathy', 'Pretty', \n",
    "            'Young', 'Dark', 'Husky/Throaty', 'Bright', 'Vibrato', \n",
    "            'Pure', 'Male', ' Ballad', 'Rich', 'Low-Range', \n",
    "            'Shouty', 'Cute', 'Relaxed', 'Female', 'Charismatic', \n",
    "            'Lonely', 'Embellishing']\n",
    "# By OH!\n",
    "sets['A'] = ['Rounded', 'Pretty', 'Delicate', 'Sharp', 'Passion', \n",
    "                'Lonely', 'Compressed', 'Pure', 'Sweet', 'Husky/Throaty', \n",
    "                'Rich', 'Energetic', 'Young', 'Robotic/Artificial', 'Clear', \n",
    "                'Thin', 'Thick', 'Mild/Soft', 'Bright', 'Charismatic',\n",
    "                'Embellishing', 'Breathy', 'Dynamic', 'Cute', 'Sad',\n",
    "                'Stable', 'Emotional', 'Warm', 'Relaxed', 'Dark']\n",
    "# Technique & Low-level Timbre\n",
    "sets['B'] = ['Male', 'Female', 'Whisper/Quiet', 'Shouty', 'Vibrato', \n",
    "                'Falsetto', 'Speech-like', 'Compressed', 'Husky/Throaty', 'Thick', \n",
    "                'Thin', 'Sharp', 'Breathy', 'Stable']\n",
    "# High level Timbre\n",
    "sets['C'] = ['Lonely', 'Sad', 'Passion','Charismatic','Pretty',\n",
    "            'Cute','Delicate','Emotional','Pure','Robotics/Artificial',\n",
    "            'Embellishing','Sweet','Young','Compressed','Dynamic']\n",
    "\n",
    "\n",
    "chosen_labels = [label for label in entire_label if label in sets[SET_ID]]\n",
    "label_filter = torch.tensor([(label in sets[SET_ID]) for label in entire_label])"
   ]
  },
  {
   "cell_type": "markdown",
   "metadata": {},
   "source": [
    "## Load Model"
   ]
  },
  {
   "cell_type": "markdown",
   "metadata": {},
   "source": [
    "모델을 불러와주세요 ヾ(^▽^*)))"
   ]
  },
  {
   "cell_type": "code",
   "execution_count": 23,
   "metadata": {},
   "outputs": [],
   "source": [
    "state_path = r\"results/D_MSE_49.pt\"\n",
    "thres_path = r\"results/D_MSE_49_threshold.pt\"\n",
    "\n",
    "state = torch.load(state_path, map_location=DEVICE)\n",
    "THRESHOLDS = torch.load(thres_path, map_location=DEVICE)"
   ]
  },
  {
   "cell_type": "code",
   "execution_count": 24,
   "metadata": {},
   "outputs": [],
   "source": [
    "class base_model(nn.Module):\n",
    "    '''\n",
    "    Base model from \"Semantic Tagging of Singing Voices in Popular Music Recordings\"\n",
    "    input : spectrogram\n",
    "    output : predicted tag distribution (one-hot encoded)\n",
    "    '''\n",
    "    def __init__(self, output_dim):\n",
    "        super().__init__()\n",
    "        self.conv_layers=nn.Sequential(\n",
    "            nn.Conv2d(1, 32, 3),\n",
    "            nn.MaxPool2d(3, 3, ceil_mode=True),\n",
    "            nn.Conv2d(32, 64, 3, padding=1),\n",
    "            nn.MaxPool2d(3, 3, ceil_mode=True),\n",
    "            nn.Conv2d(64, 128, 3, padding=1),\n",
    "            nn.MaxPool2d(3, 3, ceil_mode=True),\n",
    "        )\n",
    "        self.fc = nn.Linear(5*4*128, output_dim)\n",
    "    \n",
    "    def forward(self, x):\n",
    "        output = self.conv_layers(x)\n",
    "        output = self.fc(output.view(output.size(0),-1))\n",
    "        return output\n",
    "\n",
    "\n",
    "class drop_model(nn.Module):\n",
    "    '''\n",
    "    Base model from \"Semantic Tagging of Singing Voices in Popular Music Recordings\"\n",
    "    input : spectrogram\n",
    "    output : predicted tag distribution (one-hot encoded)\n",
    "    '''\n",
    "    def __init__(self, output_dim):\n",
    "        super().__init__()\n",
    "        self.conv_layers=nn.Sequential(\n",
    "            nn.Conv2d(1, 32, 3),\n",
    "            nn.MaxPool2d(3, 3, ceil_mode=True),\n",
    "            nn.Dropout2d(),\n",
    "            nn.Conv2d(32, 64, 3, padding=1),\n",
    "            nn.MaxPool2d(3, 3, ceil_mode=True),\n",
    "            nn.Dropout2d(),\n",
    "            nn.Conv2d(64, 128, 3, padding=1),\n",
    "            nn.MaxPool2d(3, 3, ceil_mode=True),\n",
    "            nn.Dropout2d(),\n",
    "        )\n",
    "        self.fc = nn.Linear(5*4*128, output_dim)\n",
    "    \n",
    "    def forward(self, x):\n",
    "        output = self.conv_layers(x)\n",
    "        output = self.fc(output.view(output.size(0),-1))\n",
    "        return output"
   ]
  },
  {
   "cell_type": "code",
   "execution_count": 25,
   "metadata": {},
   "outputs": [
    {
     "data": {
      "text/plain": [
       "<All keys matched successfully>"
      ]
     },
     "execution_count": 25,
     "metadata": {},
     "output_type": "execute_result"
    }
   ],
   "source": [
    "model = drop_model(len(chosen_labels)).to(DEVICE)\n",
    "model.load_state_dict(state)"
   ]
  },
  {
   "cell_type": "markdown",
   "metadata": {},
   "source": [
    "## 1. Tagging"
   ]
  },
  {
   "cell_type": "markdown",
   "metadata": {},
   "source": [
    "원하시는 음악을 넣어주세요~\n",
    "\n",
    "실행 환경에 따라 wav파일만 될 수도 있습니다.~"
   ]
  },
  {
   "cell_type": "code",
   "execution_count": 26,
   "metadata": {},
   "outputs": [],
   "source": [
    "FILE_PATH = r\"C:\\Users\\park3\\park\\Repository\\MIRProject-VocalTagging\\data\\likeme_a.wav\""
   ]
  },
  {
   "cell_type": "code",
   "execution_count": 22,
   "metadata": {},
   "outputs": [],
   "source": [
    "import torchaudio\n",
    "\n",
    "def get_mel_spectrogram(file_path, SR = 22050):\n",
    "    audio, sr = torchaudio.load(file_path)\n",
    "    audio = audio.mean(dim=0)\n",
    "    audio = torchaudio.transforms.Resample(orig_freq=sr, new_freq=SR)(audio)\n",
    "    \n",
    "    spec = torchaudio.functional.spectrogram(audio, n_fft=1024,\n",
    "                                         hop_length=512, \n",
    "                                         pad=0, \n",
    "                                         win_length=1024,\n",
    "                                         power=True,\n",
    "                                         normalized=True,\n",
    "                                         window = torch.hann_window(1024)\n",
    "                                        )\n",
    "    \n",
    "    mel_scale = torchaudio.transforms.MelScale(n_mels=128, \n",
    "                                           sample_rate=22050, \n",
    "                                           f_min=20, \n",
    "                                           f_max=8000, \n",
    "                                           n_stft=spec.shape[0])\n",
    "    mel_spec = mel_scale(spec)\n",
    "    \n",
    "    mel_spec = torch.log(1+10 * mel_spec).unsqueeze(0)\n",
    "    \n",
    "    return mel_spec"
   ]
  },
  {
   "cell_type": "markdown",
   "metadata": {},
   "source": [
    "결과가 마음에 들지 않으면 아래 THRESHOLDS를 THRESHOLD + 1, THRESHOLD - 0.5 등 수정할 수 있습니다╰(艹皿艹 )"
   ]
  },
  {
   "cell_type": "code",
   "execution_count": 10,
   "metadata": {},
   "outputs": [
    {
     "data": {
      "image/png": "[encoded data removed]",
      "text/plain": [
       "<Figure size 720x1728 with 1 Axes>"
      ]
     },
     "metadata": {
      "needs_background": "light"
     },
     "output_type": "display_data"
    }
   ],
   "source": [
    "import torch.nn as nn\n",
    "import matplotlib.pyplot as plt\n",
    "\n",
    "mel_spec = get_mel_spectrogram(FILE_PATH, SR=22050)\n",
    "\n",
    "mel_spec = mel_spec.to(DEVICE)\n",
    "num_segs = mel_spec.size(-1)//107\n",
    "\n",
    "outputs = torch.zeros(num_segs, len(chosen_labels)).to(DEVICE)\n",
    "\n",
    "for i in range(num_segs):\n",
    "    output = model(mel_spec[:,:,i*107:(i+1)*107].unsqueeze(0))\n",
    "    outputs[i, :] = output[0]\n",
    "\n",
    "prediction = (outputs > THRESHOLDS).to(int).T\n",
    "plt.figure(figsize=(10,2*outputs.size(0)))\n",
    "plt.imshow(prediction)\n",
    "plt.ylabel(\"Label\")\n",
    "plt.xlabel(\"Sec\")\n",
    "plt.yticks(range(len(chosen_labels)), chosen_labels)\n",
    "plt.xticks(range(outputs.size(0)), [2.5*n for n in range(outputs.size(0))])\n",
    "plt.show()"
   ]
  },
  {
   "cell_type": "markdown",
   "metadata": {},
   "source": [
    "## 2. Similarity (Searching)"
   ]
  },
  {
   "cell_type": "markdown",
   "metadata": {},
   "source": [
    "inference 결과를 활용하여 가수와 가수 또는 사용자와 가수 간에 음색을 비교할 수 있는 척도 개발.."
   ]
  },
  {
   "cell_type": "code",
   "execution_count": null,
   "metadata": {},
   "outputs": [],
   "source": []
  }
 ],
 "metadata": {
  "kernelspec": {
   "display_name": "Python 3.9.7 ('avsr')",
   "language": "python",
   "name": "python3"
  },
  "language_info": {
   "codemirror_mode": {
    "name": "ipython",
    "version": 3
   },
   "file_extension": ".py",
   "mimetype": "text/x-python",
   "name": "python",
   "nbconvert_exporter": "python",
   "pygments_lexer": "ipython3",
   "version": "3.9.13"
  },
  "orig_nbformat": 4,
  "vscode": {
   "interpreter": {
    "hash": "19d6aceedad81f7a7509298a33f5091dc48425c32d0abd1b16cdda93c50dcacb"
   }
  }
 },
 "nbformat": 4,
 "nbformat_minor": 2
}
